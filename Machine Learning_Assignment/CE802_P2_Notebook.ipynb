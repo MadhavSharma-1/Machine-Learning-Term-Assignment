{
  "cells": [
    {
      "cell_type": "markdown",
      "metadata": {
        "id": "2bNO3sfngNiK"
      },
      "source": [
        "# Part A\n",
        "\n"
      ]
    },
    {
      "cell_type": "code",
      "execution_count": 3,
      "metadata": {
        "id": "oYg2GQULgNiL"
      },
      "outputs": [],
      "source": [
        "import pandas as pd\n",
        "import seaborn as sns\n",
        "from sklearn.tree import DecisionTreeClassifier\n",
        "from sklearn import metrics\n",
        "from matplotlib import pyplot as plt\n",
        "from sklearn.model_selection import train_test_split\n",
        "from sklearn.neighbors import KNeighborsClassifier\n",
        "from sklearn.ensemble import RandomForestClassifier\n",
        "from sklearn.metrics import confusion_matrix,classification_report,accuracy_score"
      ]
    },
    {
      "cell_type": "code",
      "execution_count": 4,
      "metadata": {
        "colab": {
          "base_uri": "https://localhost:8080/",
          "height": 268
        },
        "id": "wAzk5WH1gNiM",
        "outputId": "49d6c4da-66a9-4187-d8b9-ef163ab4f813"
      },
      "outputs": [
        {
          "output_type": "execute_result",
          "data": {
            "text/html": [
              "\n",
              "  <div id=\"df-04dc05e6-b921-4b9e-9276-77fa8e7ba244\">\n",
              "    <div class=\"colab-df-container\">\n",
              "      <div>\n",
              "<style scoped>\n",
              "    .dataframe tbody tr th:only-of-type {\n",
              "        vertical-align: middle;\n",
              "    }\n",
              "\n",
              "    .dataframe tbody tr th {\n",
              "        vertical-align: top;\n",
              "    }\n",
              "\n",
              "    .dataframe thead th {\n",
              "        text-align: right;\n",
              "    }\n",
              "</style>\n",
              "<table border=\"1\" class=\"dataframe\">\n",
              "  <thead>\n",
              "    <tr style=\"text-align: right;\">\n",
              "      <th></th>\n",
              "      <th>F1</th>\n",
              "      <th>F2</th>\n",
              "      <th>F3</th>\n",
              "      <th>F4</th>\n",
              "      <th>F5</th>\n",
              "      <th>F6</th>\n",
              "      <th>F7</th>\n",
              "      <th>F8</th>\n",
              "      <th>F9</th>\n",
              "      <th>F10</th>\n",
              "      <th>F11</th>\n",
              "      <th>F12</th>\n",
              "      <th>F13</th>\n",
              "      <th>F14</th>\n",
              "      <th>F15</th>\n",
              "      <th>F16</th>\n",
              "      <th>F17</th>\n",
              "      <th>F18</th>\n",
              "      <th>F19</th>\n",
              "      <th>F20</th>\n",
              "      <th>F21</th>\n",
              "      <th>Class</th>\n",
              "    </tr>\n",
              "  </thead>\n",
              "  <tbody>\n",
              "    <tr>\n",
              "      <th>0</th>\n",
              "      <td>-0.123210</td>\n",
              "      <td>2577.32</td>\n",
              "      <td>2183.52</td>\n",
              "      <td>7747.32</td>\n",
              "      <td>2.16</td>\n",
              "      <td>9693.21</td>\n",
              "      <td>-2.2498</td>\n",
              "      <td>-1381.98</td>\n",
              "      <td>3033.55</td>\n",
              "      <td>53.796</td>\n",
              "      <td>-90073.683</td>\n",
              "      <td>2.2986</td>\n",
              "      <td>6.7860</td>\n",
              "      <td>1</td>\n",
              "      <td>-3.9290</td>\n",
              "      <td>-0.8095</td>\n",
              "      <td>3.5800</td>\n",
              "      <td>-5.9384</td>\n",
              "      <td>-9.3420</td>\n",
              "      <td>1</td>\n",
              "      <td>NaN</td>\n",
              "      <td>True</td>\n",
              "    </tr>\n",
              "    <tr>\n",
              "      <th>1</th>\n",
              "      <td>-2.064600</td>\n",
              "      <td>1200.12</td>\n",
              "      <td>1654.74</td>\n",
              "      <td>6027.72</td>\n",
              "      <td>2.16</td>\n",
              "      <td>9391.26</td>\n",
              "      <td>-2.7420</td>\n",
              "      <td>-1336.20</td>\n",
              "      <td>2081.35</td>\n",
              "      <td>33.514</td>\n",
              "      <td>-90039.942</td>\n",
              "      <td>0.9676</td>\n",
              "      <td>5.5240</td>\n",
              "      <td>0</td>\n",
              "      <td>-1.6609</td>\n",
              "      <td>-2.3020</td>\n",
              "      <td>3.8880</td>\n",
              "      <td>-6.5640</td>\n",
              "      <td>-6.3806</td>\n",
              "      <td>1</td>\n",
              "      <td>NaN</td>\n",
              "      <td>False</td>\n",
              "    </tr>\n",
              "    <tr>\n",
              "      <th>2</th>\n",
              "      <td>-0.083748</td>\n",
              "      <td>2769.35</td>\n",
              "      <td>2661.42</td>\n",
              "      <td>7798.66</td>\n",
              "      <td>2.16</td>\n",
              "      <td>9296.28</td>\n",
              "      <td>-3.2130</td>\n",
              "      <td>-1531.16</td>\n",
              "      <td>3397.15</td>\n",
              "      <td>39.430</td>\n",
              "      <td>-90138.300</td>\n",
              "      <td>1.7296</td>\n",
              "      <td>10.0870</td>\n",
              "      <td>0</td>\n",
              "      <td>-2.5100</td>\n",
              "      <td>-2.8190</td>\n",
              "      <td>2.1606</td>\n",
              "      <td>-5.2340</td>\n",
              "      <td>-9.6780</td>\n",
              "      <td>0</td>\n",
              "      <td>NaN</td>\n",
              "      <td>False</td>\n",
              "    </tr>\n",
              "    <tr>\n",
              "      <th>3</th>\n",
              "      <td>-2.808300</td>\n",
              "      <td>3161.52</td>\n",
              "      <td>2199.12</td>\n",
              "      <td>8369.32</td>\n",
              "      <td>5.16</td>\n",
              "      <td>7990.71</td>\n",
              "      <td>-2.2703</td>\n",
              "      <td>-1397.03</td>\n",
              "      <td>3289.99</td>\n",
              "      <td>42.012</td>\n",
              "      <td>-90993.330</td>\n",
              "      <td>3.5320</td>\n",
              "      <td>15.5400</td>\n",
              "      <td>1</td>\n",
              "      <td>-2.2555</td>\n",
              "      <td>-0.9770</td>\n",
              "      <td>8.2160</td>\n",
              "      <td>-5.8166</td>\n",
              "      <td>-6.1512</td>\n",
              "      <td>0</td>\n",
              "      <td>42.06</td>\n",
              "      <td>True</td>\n",
              "    </tr>\n",
              "    <tr>\n",
              "      <th>4</th>\n",
              "      <td>-0.445800</td>\n",
              "      <td>2707.42</td>\n",
              "      <td>2083.62</td>\n",
              "      <td>9054.72</td>\n",
              "      <td>5.16</td>\n",
              "      <td>8691.81</td>\n",
              "      <td>-3.7310</td>\n",
              "      <td>-804.04</td>\n",
              "      <td>1903.35</td>\n",
              "      <td>43.172</td>\n",
              "      <td>-90092.340</td>\n",
              "      <td>0.5662</td>\n",
              "      <td>4.5188</td>\n",
              "      <td>0</td>\n",
              "      <td>-1.7843</td>\n",
              "      <td>-1.3690</td>\n",
              "      <td>0.7562</td>\n",
              "      <td>-6.4060</td>\n",
              "      <td>-9.5320</td>\n",
              "      <td>0</td>\n",
              "      <td>NaN</td>\n",
              "      <td>True</td>\n",
              "    </tr>\n",
              "  </tbody>\n",
              "</table>\n",
              "</div>\n",
              "      <button class=\"colab-df-convert\" onclick=\"convertToInteractive('df-04dc05e6-b921-4b9e-9276-77fa8e7ba244')\"\n",
              "              title=\"Convert this dataframe to an interactive table.\"\n",
              "              style=\"display:none;\">\n",
              "        \n",
              "  <svg xmlns=\"http://www.w3.org/2000/svg\" height=\"24px\"viewBox=\"0 0 24 24\"\n",
              "       width=\"24px\">\n",
              "    <path d=\"M0 0h24v24H0V0z\" fill=\"none\"/>\n",
              "    <path d=\"M18.56 5.44l.94 2.06.94-2.06 2.06-.94-2.06-.94-.94-2.06-.94 2.06-2.06.94zm-11 1L8.5 8.5l.94-2.06 2.06-.94-2.06-.94L8.5 2.5l-.94 2.06-2.06.94zm10 10l.94 2.06.94-2.06 2.06-.94-2.06-.94-.94-2.06-.94 2.06-2.06.94z\"/><path d=\"M17.41 7.96l-1.37-1.37c-.4-.4-.92-.59-1.43-.59-.52 0-1.04.2-1.43.59L10.3 9.45l-7.72 7.72c-.78.78-.78 2.05 0 2.83L4 21.41c.39.39.9.59 1.41.59.51 0 1.02-.2 1.41-.59l7.78-7.78 2.81-2.81c.8-.78.8-2.07 0-2.86zM5.41 20L4 18.59l7.72-7.72 1.47 1.35L5.41 20z\"/>\n",
              "  </svg>\n",
              "      </button>\n",
              "      \n",
              "  <style>\n",
              "    .colab-df-container {\n",
              "      display:flex;\n",
              "      flex-wrap:wrap;\n",
              "      gap: 12px;\n",
              "    }\n",
              "\n",
              "    .colab-df-convert {\n",
              "      background-color: #E8F0FE;\n",
              "      border: none;\n",
              "      border-radius: 50%;\n",
              "      cursor: pointer;\n",
              "      display: none;\n",
              "      fill: #1967D2;\n",
              "      height: 32px;\n",
              "      padding: 0 0 0 0;\n",
              "      width: 32px;\n",
              "    }\n",
              "\n",
              "    .colab-df-convert:hover {\n",
              "      background-color: #E2EBFA;\n",
              "      box-shadow: 0px 1px 2px rgba(60, 64, 67, 0.3), 0px 1px 3px 1px rgba(60, 64, 67, 0.15);\n",
              "      fill: #174EA6;\n",
              "    }\n",
              "\n",
              "    [theme=dark] .colab-df-convert {\n",
              "      background-color: #3B4455;\n",
              "      fill: #D2E3FC;\n",
              "    }\n",
              "\n",
              "    [theme=dark] .colab-df-convert:hover {\n",
              "      background-color: #434B5C;\n",
              "      box-shadow: 0px 1px 3px 1px rgba(0, 0, 0, 0.15);\n",
              "      filter: drop-shadow(0px 1px 2px rgba(0, 0, 0, 0.3));\n",
              "      fill: #FFFFFF;\n",
              "    }\n",
              "  </style>\n",
              "\n",
              "      <script>\n",
              "        const buttonEl =\n",
              "          document.querySelector('#df-04dc05e6-b921-4b9e-9276-77fa8e7ba244 button.colab-df-convert');\n",
              "        buttonEl.style.display =\n",
              "          google.colab.kernel.accessAllowed ? 'block' : 'none';\n",
              "\n",
              "        async function convertToInteractive(key) {\n",
              "          const element = document.querySelector('#df-04dc05e6-b921-4b9e-9276-77fa8e7ba244');\n",
              "          const dataTable =\n",
              "            await google.colab.kernel.invokeFunction('convertToInteractive',\n",
              "                                                     [key], {});\n",
              "          if (!dataTable) return;\n",
              "\n",
              "          const docLinkHtml = 'Like what you see? Visit the ' +\n",
              "            '<a target=\"_blank\" href=https://colab.research.google.com/notebooks/data_table.ipynb>data table notebook</a>'\n",
              "            + ' to learn more about interactive tables.';\n",
              "          element.innerHTML = '';\n",
              "          dataTable['output_type'] = 'display_data';\n",
              "          await google.colab.output.renderOutput(dataTable, element);\n",
              "          const docLink = document.createElement('div');\n",
              "          docLink.innerHTML = docLinkHtml;\n",
              "          element.appendChild(docLink);\n",
              "        }\n",
              "      </script>\n",
              "    </div>\n",
              "  </div>\n",
              "  "
            ],
            "text/plain": [
              "         F1       F2       F3       F4    F5  ...     F18     F19  F20    F21  Class\n",
              "0 -0.123210  2577.32  2183.52  7747.32  2.16  ... -5.9384 -9.3420    1    NaN   True\n",
              "1 -2.064600  1200.12  1654.74  6027.72  2.16  ... -6.5640 -6.3806    1    NaN  False\n",
              "2 -0.083748  2769.35  2661.42  7798.66  2.16  ... -5.2340 -9.6780    0    NaN  False\n",
              "3 -2.808300  3161.52  2199.12  8369.32  5.16  ... -5.8166 -6.1512    0  42.06   True\n",
              "4 -0.445800  2707.42  2083.62  9054.72  5.16  ... -6.4060 -9.5320    0    NaN   True\n",
              "\n",
              "[5 rows x 22 columns]"
            ]
          },
          "metadata": {},
          "execution_count": 4
        }
      ],
      "source": [
        "df = pd.read_csv(r'CE802_P2_Data.csv')\n",
        "df.head()\n"
      ]
    },
    {
      "cell_type": "code",
      "execution_count": 5,
      "metadata": {
        "colab": {
          "base_uri": "https://localhost:8080/"
        },
        "id": "VFcioMQ8gNiN",
        "outputId": "214ee643-242c-421a-9134-50828dc6bcf6"
      },
      "outputs": [
        {
          "output_type": "execute_result",
          "data": {
            "text/plain": [
              "F1         0\n",
              "F2         0\n",
              "F3         0\n",
              "F4         0\n",
              "F5         0\n",
              "F6         0\n",
              "F7         0\n",
              "F8         0\n",
              "F9         0\n",
              "F10        0\n",
              "F11        0\n",
              "F12        0\n",
              "F13        0\n",
              "F14        0\n",
              "F15        0\n",
              "F16        0\n",
              "F17        0\n",
              "F18        0\n",
              "F19        0\n",
              "F20        0\n",
              "F21      500\n",
              "Class      0\n",
              "dtype: int64"
            ]
          },
          "metadata": {},
          "execution_count": 5
        }
      ],
      "source": [
        "df.isnull().sum()"
      ]
    },
    {
      "cell_type": "code",
      "execution_count": 6,
      "metadata": {
        "colab": {
          "base_uri": "https://localhost:8080/"
        },
        "id": "FKxagVhFgNiO",
        "outputId": "7a67b05a-55f2-4e24-b5bc-2cc4333625bb"
      },
      "outputs": [
        {
          "output_type": "stream",
          "name": "stdout",
          "text": [
            "<class 'pandas.core.frame.DataFrame'>\n",
            "RangeIndex: 1000 entries, 0 to 999\n",
            "Data columns (total 22 columns):\n",
            " #   Column  Non-Null Count  Dtype  \n",
            "---  ------  --------------  -----  \n",
            " 0   F1      1000 non-null   float64\n",
            " 1   F2      1000 non-null   float64\n",
            " 2   F3      1000 non-null   float64\n",
            " 3   F4      1000 non-null   float64\n",
            " 4   F5      1000 non-null   float64\n",
            " 5   F6      1000 non-null   float64\n",
            " 6   F7      1000 non-null   float64\n",
            " 7   F8      1000 non-null   float64\n",
            " 8   F9      1000 non-null   float64\n",
            " 9   F10     1000 non-null   float64\n",
            " 10  F11     1000 non-null   float64\n",
            " 11  F12     1000 non-null   float64\n",
            " 12  F13     1000 non-null   float64\n",
            " 13  F14     1000 non-null   int64  \n",
            " 14  F15     1000 non-null   float64\n",
            " 15  F16     1000 non-null   float64\n",
            " 16  F17     1000 non-null   float64\n",
            " 17  F18     1000 non-null   float64\n",
            " 18  F19     1000 non-null   float64\n",
            " 19  F20     1000 non-null   int64  \n",
            " 20  F21     500 non-null    float64\n",
            " 21  Class   1000 non-null   bool   \n",
            "dtypes: bool(1), float64(19), int64(2)\n",
            "memory usage: 165.2 KB\n"
          ]
        }
      ],
      "source": [
        "data = df.dropna()\n",
        "df.info()"
      ]
    },
    {
      "cell_type": "code",
      "source": [
        "fig = plt.figure(figsize =(10, 7))\n",
        " \n",
        "# Creating plot\n",
        "plt.boxplot(data.F21)\n",
        " \n",
        "# show plot\n",
        "plt.show()"
      ],
      "metadata": {
        "id": "RZMo5zfcCY7h",
        "outputId": "b1b1a975-00aa-48bc-a5b5-f76be389b7e2",
        "colab": {
          "base_uri": "https://localhost:8080/",
          "height": 428
        }
      },
      "execution_count": 32,
      "outputs": [
        {
          "output_type": "display_data",
          "data": {
            "image/png": "[encoded data removed]",
            "text/plain": [
              "<Figure size 720x504 with 1 Axes>"
            ]
          },
          "metadata": {}
        }
      ]
    },
    {
      "cell_type": "code",
      "execution_count": 7,
      "metadata": {
        "colab": {
          "base_uri": "https://localhost:8080/",
          "height": 1000
        },
        "id": "VkMLlPSWgNiO",
        "outputId": "cd710345-6a21-49fc-ffea-7e6cb30df702"
      },
      "outputs": [
        {
          "output_type": "execute_result",
          "data": {
            "text/plain": [
              "<matplotlib.legend.Legend at 0x7ffa69eadd10>"
            ]
          },
          "metadata": {},
          "execution_count": 7
        },
        {
          "output_type": "display_data",
          "data": {
            "image/png": "[encoded data removed]",
            "text/plain": [
              "<Figure size 360x360 with 1 Axes>"
            ]
          },
          "metadata": {
            "needs_background": "light"
          }
        },
        {
          "output_type": "display_data",
          "data": {
            "image/png": "[encoded data removed]",
            "text/plain": [
              "<Figure size 360x360 with 1 Axes>"
            ]
          },
          "metadata": {
            "needs_background": "light"
          }
        },
        {
          "output_type": "display_data",
          "data": {
            "image/png": "[encoded data removed]",
            "text/plain": [
              "<Figure size 360x360 with 1 Axes>"
            ]
          },
          "metadata": {
            "needs_background": "light"
          }
        },
        {
          "output_type": "display_data",
          "data": {
            "image/png": "[encoded data removed]",
            "text/plain": [
              "<Figure size 360x360 with 1 Axes>"
            ]
          },
          "metadata": {
            "needs_background": "light"
          }
        },
        {
          "output_type": "display_data",
          "data": {
            "image/png": "[encoded data removed]",
            "text/plain": [
              "<Figure size 360x360 with 1 Axes>"
            ]
          },
          "metadata": {
            "needs_background": "light"
          }
        },
        {
          "output_type": "display_data",
          "data": {
            "image/png": "[encoded data removed]",
            "text/plain": [
              "<Figure size 360x360 with 1 Axes>"
            ]
          },
          "metadata": {
            "needs_background": "light"
          }
        }
      ],
      "source": [
        "pos = df[df['Class'] == 1]['F1']\n",
        "neg = df[df['Class'] == 0]['F1']\n",
        "\n",
        "fig = plt.figure(figsize = (5,5))\n",
        "plt.title(\"F1 \")\n",
        "pos.hist(alpha=0.7,bins=30,label=\"True\")\n",
        "neg.hist(alpha=0.7,bins=30,label=\"False\")\n",
        "plt.legend(loc = \"upper right\")\n",
        "\n",
        "\n",
        "pos = df[df['Class'] == 1]['F2']\n",
        "neg = df[df['Class'] == 0]['F2']\n",
        "\n",
        "fig = plt.figure(figsize = (5,5))\n",
        "plt.title(\"F2 \")\n",
        "pos.hist(alpha=0.7,bins=30,label=\"True\")\n",
        "neg.hist(alpha=0.7,bins=30,label=\"False\")\n",
        "plt.legend(loc = \"upper right\")\n",
        "\n",
        "\n",
        "pos = df[df['Class'] == 1]['F3']\n",
        "neg = df[df['Class'] == 0]['F3']\n",
        "\n",
        "fig = plt.figure(figsize = (5,5))\n",
        "plt.title(\"F3 \")\n",
        "pos.hist(alpha=0.7,bins=30,label=\"True\")\n",
        "neg.hist(alpha=0.7,bins=30,label=\"False\")\n",
        "plt.legend(loc = \"upper right\")\n",
        "\n",
        "\n",
        "pos = df[df['Class'] == 1]['F4']\n",
        "neg = df[df['Class'] == 0]['F4']\n",
        "\n",
        "fig = plt.figure(figsize = (5,5))\n",
        "plt.title(\"F4 \")\n",
        "pos.hist(alpha=0.7,bins=30,label=\"True\")\n",
        "neg.hist(alpha=0.7,bins=30,label=\"False\")\n",
        "plt.legend(loc = \"upper right\")\n",
        "\n",
        "pos = df[df['Class'] == 1]['F5']\n",
        "neg = df[df['Class'] == 0]['F5']\n",
        "\n",
        "fig = plt.figure(figsize = (5,5))\n",
        "plt.title(\"F5 \")\n",
        "pos.hist(alpha=0.7,bins=30,label=\"True\")\n",
        "neg.hist(alpha=0.7,bins=30,label=\"False\")\n",
        "plt.legend(loc = \"upper right\")\n",
        "\n",
        "pos = df[df['Class'] == 1]['F6']\n",
        "neg = df[df['Class'] == 0]['F6']\n",
        "\n",
        "fig = plt.figure(figsize = (5,5))\n",
        "plt.title(\"F6 \")\n",
        "pos.hist(alpha=0.7,bins=30,label=\"True\")\n",
        "neg.hist(alpha=0.7,bins=30,label=\"False\")\n",
        "plt.legend(loc = \"upper right\")"
      ]
    },
    {
      "cell_type": "code",
      "execution_count": 8,
      "metadata": {
        "id": "bwQdUqpygNiP"
      },
      "outputs": [],
      "source": [
        "minvalue = df['F21'].min()\n",
        "df.fillna(value =minvalue,inplace = True)\n"
      ]
    },
    {
      "cell_type": "code",
      "execution_count": 9,
      "metadata": {
        "colab": {
          "base_uri": "https://localhost:8080/"
        },
        "id": "1j2IlQJSgNiP",
        "outputId": "83be888a-560b-4820-d279-dc7009cc25b4"
      },
      "outputs": [
        {
          "output_type": "execute_result",
          "data": {
            "text/plain": [
              "F1       0\n",
              "F2       0\n",
              "F3       0\n",
              "F4       0\n",
              "F5       0\n",
              "F6       0\n",
              "F7       0\n",
              "F8       0\n",
              "F9       0\n",
              "F10      0\n",
              "F11      0\n",
              "F12      0\n",
              "F13      0\n",
              "F14      0\n",
              "F15      0\n",
              "F16      0\n",
              "F17      0\n",
              "F18      0\n",
              "F19      0\n",
              "F20      0\n",
              "F21      0\n",
              "Class    0\n",
              "dtype: int64"
            ]
          },
          "metadata": {},
          "execution_count": 9
        }
      ],
      "source": [
        "df.isnull().sum()"
      ]
    },
    {
      "cell_type": "code",
      "execution_count": 10,
      "metadata": {
        "colab": {
          "base_uri": "https://localhost:8080/",
          "height": 279
        },
        "id": "KC8IWDuKgNiP",
        "outputId": "9e0262a0-f8e7-4b83-be77-cc4150ab6342"
      },
      "outputs": [
        {
          "output_type": "display_data",
          "data": {
            "image/png": "[encoded data removed]",
            "text/plain": [
              "<Figure size 432x288 with 1 Axes>"
            ]
          },
          "metadata": {}
        }
      ],
      "source": [
        "blue_green = ['#088F8F','#7393B3']\n",
        "palette = sns.color_palette(blue_green)\n",
        "sns.set_palette(palette)\n",
        "sns.set_style(\"white\")\n",
        "sns.scatterplot(x='F1',y='F2',data=df);"
      ]
    },
    {
      "cell_type": "code",
      "execution_count": 10,
      "metadata": {
        "id": "nwcwOWx-gNiQ"
      },
      "outputs": [],
      "source": [
        ""
      ]
    },
    {
      "cell_type": "code",
      "execution_count": 11,
      "metadata": {
        "id": "jtkCoROHgNiQ"
      },
      "outputs": [],
      "source": [
        "input_features = df.drop(['Class'],axis=1)\n",
        "output_features =df['Class']"
      ]
    },
    {
      "cell_type": "code",
      "execution_count": 12,
      "metadata": {
        "scrolled": true,
        "colab": {
          "base_uri": "https://localhost:8080/",
          "height": 483
        },
        "id": "rge0BY19gNiQ",
        "outputId": "f1c72264-88ae-471b-a951-f706903da0f6"
      },
      "outputs": [
        {
          "output_type": "execute_result",
          "data": {
            "text/html": [
              "\n",
              "  <div id=\"df-91999285-3d25-46ff-838f-72e63935e202\">\n",
              "    <div class=\"colab-df-container\">\n",
              "      <div>\n",
              "<style scoped>\n",
              "    .dataframe tbody tr th:only-of-type {\n",
              "        vertical-align: middle;\n",
              "    }\n",
              "\n",
              "    .dataframe tbody tr th {\n",
              "        vertical-align: top;\n",
              "    }\n",
              "\n",
              "    .dataframe thead th {\n",
              "        text-align: right;\n",
              "    }\n",
              "</style>\n",
              "<table border=\"1\" class=\"dataframe\">\n",
              "  <thead>\n",
              "    <tr style=\"text-align: right;\">\n",
              "      <th></th>\n",
              "      <th>F1</th>\n",
              "      <th>F2</th>\n",
              "      <th>F3</th>\n",
              "      <th>F4</th>\n",
              "      <th>F5</th>\n",
              "      <th>F6</th>\n",
              "      <th>F7</th>\n",
              "      <th>F8</th>\n",
              "      <th>F9</th>\n",
              "      <th>F10</th>\n",
              "      <th>F11</th>\n",
              "      <th>F12</th>\n",
              "      <th>F13</th>\n",
              "      <th>F14</th>\n",
              "      <th>F15</th>\n",
              "      <th>F16</th>\n",
              "      <th>F17</th>\n",
              "      <th>F18</th>\n",
              "      <th>F19</th>\n",
              "      <th>F20</th>\n",
              "      <th>F21</th>\n",
              "    </tr>\n",
              "  </thead>\n",
              "  <tbody>\n",
              "    <tr>\n",
              "      <th>0</th>\n",
              "      <td>-0.123210</td>\n",
              "      <td>2577.3200</td>\n",
              "      <td>2183.52</td>\n",
              "      <td>7747.32</td>\n",
              "      <td>2.16</td>\n",
              "      <td>9693.21</td>\n",
              "      <td>-2.24980</td>\n",
              "      <td>-1381.98</td>\n",
              "      <td>3033.55</td>\n",
              "      <td>53.796</td>\n",
              "      <td>-90073.683</td>\n",
              "      <td>2.2986</td>\n",
              "      <td>6.7860</td>\n",
              "      <td>1</td>\n",
              "      <td>-3.9290</td>\n",
              "      <td>-0.8095</td>\n",
              "      <td>3.5800</td>\n",
              "      <td>-5.9384</td>\n",
              "      <td>-9.3420</td>\n",
              "      <td>1</td>\n",
              "      <td>24.93</td>\n",
              "    </tr>\n",
              "    <tr>\n",
              "      <th>1</th>\n",
              "      <td>-2.064600</td>\n",
              "      <td>1200.1200</td>\n",
              "      <td>1654.74</td>\n",
              "      <td>6027.72</td>\n",
              "      <td>2.16</td>\n",
              "      <td>9391.26</td>\n",
              "      <td>-2.74200</td>\n",
              "      <td>-1336.20</td>\n",
              "      <td>2081.35</td>\n",
              "      <td>33.514</td>\n",
              "      <td>-90039.942</td>\n",
              "      <td>0.9676</td>\n",
              "      <td>5.5240</td>\n",
              "      <td>0</td>\n",
              "      <td>-1.6609</td>\n",
              "      <td>-2.3020</td>\n",
              "      <td>3.8880</td>\n",
              "      <td>-6.5640</td>\n",
              "      <td>-6.3806</td>\n",
              "      <td>1</td>\n",
              "      <td>24.93</td>\n",
              "    </tr>\n",
              "    <tr>\n",
              "      <th>2</th>\n",
              "      <td>-0.083748</td>\n",
              "      <td>2769.3500</td>\n",
              "      <td>2661.42</td>\n",
              "      <td>7798.66</td>\n",
              "      <td>2.16</td>\n",
              "      <td>9296.28</td>\n",
              "      <td>-3.21300</td>\n",
              "      <td>-1531.16</td>\n",
              "      <td>3397.15</td>\n",
              "      <td>39.430</td>\n",
              "      <td>-90138.300</td>\n",
              "      <td>1.7296</td>\n",
              "      <td>10.0870</td>\n",
              "      <td>0</td>\n",
              "      <td>-2.5100</td>\n",
              "      <td>-2.8190</td>\n",
              "      <td>2.1606</td>\n",
              "      <td>-5.2340</td>\n",
              "      <td>-9.6780</td>\n",
              "      <td>0</td>\n",
              "      <td>24.93</td>\n",
              "    </tr>\n",
              "    <tr>\n",
              "      <th>3</th>\n",
              "      <td>-2.808300</td>\n",
              "      <td>3161.5200</td>\n",
              "      <td>2199.12</td>\n",
              "      <td>8369.32</td>\n",
              "      <td>5.16</td>\n",
              "      <td>7990.71</td>\n",
              "      <td>-2.27030</td>\n",
              "      <td>-1397.03</td>\n",
              "      <td>3289.99</td>\n",
              "      <td>42.012</td>\n",
              "      <td>-90993.330</td>\n",
              "      <td>3.5320</td>\n",
              "      <td>15.5400</td>\n",
              "      <td>1</td>\n",
              "      <td>-2.2555</td>\n",
              "      <td>-0.9770</td>\n",
              "      <td>8.2160</td>\n",
              "      <td>-5.8166</td>\n",
              "      <td>-6.1512</td>\n",
              "      <td>0</td>\n",
              "      <td>42.06</td>\n",
              "    </tr>\n",
              "    <tr>\n",
              "      <th>4</th>\n",
              "      <td>-0.445800</td>\n",
              "      <td>2707.4200</td>\n",
              "      <td>2083.62</td>\n",
              "      <td>9054.72</td>\n",
              "      <td>5.16</td>\n",
              "      <td>8691.81</td>\n",
              "      <td>-3.73100</td>\n",
              "      <td>-804.04</td>\n",
              "      <td>1903.35</td>\n",
              "      <td>43.172</td>\n",
              "      <td>-90092.340</td>\n",
              "      <td>0.5662</td>\n",
              "      <td>4.5188</td>\n",
              "      <td>0</td>\n",
              "      <td>-1.7843</td>\n",
              "      <td>-1.3690</td>\n",
              "      <td>0.7562</td>\n",
              "      <td>-6.4060</td>\n",
              "      <td>-9.5320</td>\n",
              "      <td>0</td>\n",
              "      <td>24.93</td>\n",
              "    </tr>\n",
              "    <tr>\n",
              "      <th>...</th>\n",
              "      <td>...</td>\n",
              "      <td>...</td>\n",
              "      <td>...</td>\n",
              "      <td>...</td>\n",
              "      <td>...</td>\n",
              "      <td>...</td>\n",
              "      <td>...</td>\n",
              "      <td>...</td>\n",
              "      <td>...</td>\n",
              "      <td>...</td>\n",
              "      <td>...</td>\n",
              "      <td>...</td>\n",
              "      <td>...</td>\n",
              "      <td>...</td>\n",
              "      <td>...</td>\n",
              "      <td>...</td>\n",
              "      <td>...</td>\n",
              "      <td>...</td>\n",
              "      <td>...</td>\n",
              "      <td>...</td>\n",
              "      <td>...</td>\n",
              "    </tr>\n",
              "    <tr>\n",
              "      <th>995</th>\n",
              "      <td>-0.637200</td>\n",
              "      <td>2575.9200</td>\n",
              "      <td>1493.97</td>\n",
              "      <td>7726.38</td>\n",
              "      <td>2.16</td>\n",
              "      <td>8822.31</td>\n",
              "      <td>-2.27120</td>\n",
              "      <td>-1052.44</td>\n",
              "      <td>2790.55</td>\n",
              "      <td>56.832</td>\n",
              "      <td>-90083.748</td>\n",
              "      <td>0.9634</td>\n",
              "      <td>5.8160</td>\n",
              "      <td>0</td>\n",
              "      <td>-2.0949</td>\n",
              "      <td>-1.9290</td>\n",
              "      <td>1.3156</td>\n",
              "      <td>-6.3420</td>\n",
              "      <td>-6.9018</td>\n",
              "      <td>1</td>\n",
              "      <td>32.58</td>\n",
              "    </tr>\n",
              "    <tr>\n",
              "      <th>996</th>\n",
              "      <td>-0.062512</td>\n",
              "      <td>2713.8200</td>\n",
              "      <td>1484.64</td>\n",
              "      <td>7529.12</td>\n",
              "      <td>2.16</td>\n",
              "      <td>9395.07</td>\n",
              "      <td>-2.43980</td>\n",
              "      <td>-1279.56</td>\n",
              "      <td>3143.73</td>\n",
              "      <td>49.938</td>\n",
              "      <td>-89349.330</td>\n",
              "      <td>1.1236</td>\n",
              "      <td>13.6120</td>\n",
              "      <td>1</td>\n",
              "      <td>-1.6278</td>\n",
              "      <td>-0.5306</td>\n",
              "      <td>0.7642</td>\n",
              "      <td>-6.1828</td>\n",
              "      <td>-8.1960</td>\n",
              "      <td>1</td>\n",
              "      <td>24.93</td>\n",
              "    </tr>\n",
              "    <tr>\n",
              "      <th>997</th>\n",
              "      <td>-0.458100</td>\n",
              "      <td>2827.8675</td>\n",
              "      <td>1539.30</td>\n",
              "      <td>7463.92</td>\n",
              "      <td>5.16</td>\n",
              "      <td>9285.81</td>\n",
              "      <td>-2.71500</td>\n",
              "      <td>-1503.12</td>\n",
              "      <td>3497.55</td>\n",
              "      <td>20.112</td>\n",
              "      <td>-90045.957</td>\n",
              "      <td>1.4140</td>\n",
              "      <td>5.0459</td>\n",
              "      <td>0</td>\n",
              "      <td>-1.8705</td>\n",
              "      <td>-2.7190</td>\n",
              "      <td>2.2880</td>\n",
              "      <td>-5.9302</td>\n",
              "      <td>-8.0580</td>\n",
              "      <td>1</td>\n",
              "      <td>33.81</td>\n",
              "    </tr>\n",
              "    <tr>\n",
              "      <th>998</th>\n",
              "      <td>-0.323700</td>\n",
              "      <td>2681.1200</td>\n",
              "      <td>2399.52</td>\n",
              "      <td>8268.92</td>\n",
              "      <td>2.16</td>\n",
              "      <td>10062.51</td>\n",
              "      <td>-2.79400</td>\n",
              "      <td>-1387.82</td>\n",
              "      <td>3001.85</td>\n",
              "      <td>32.880</td>\n",
              "      <td>-91178.430</td>\n",
              "      <td>2.6900</td>\n",
              "      <td>7.8240</td>\n",
              "      <td>1</td>\n",
              "      <td>-3.1360</td>\n",
              "      <td>-0.9401</td>\n",
              "      <td>4.0980</td>\n",
              "      <td>-5.7562</td>\n",
              "      <td>-12.4580</td>\n",
              "      <td>0</td>\n",
              "      <td>35.79</td>\n",
              "    </tr>\n",
              "    <tr>\n",
              "      <th>999</th>\n",
              "      <td>-2.061000</td>\n",
              "      <td>4034.1200</td>\n",
              "      <td>1041.12</td>\n",
              "      <td>9405.32</td>\n",
              "      <td>5.16</td>\n",
              "      <td>8583.51</td>\n",
              "      <td>-1.64566</td>\n",
              "      <td>-1311.16</td>\n",
              "      <td>3986.95</td>\n",
              "      <td>29.592</td>\n",
              "      <td>-90209.190</td>\n",
              "      <td>0.9088</td>\n",
              "      <td>7.8380</td>\n",
              "      <td>0</td>\n",
              "      <td>-1.8624</td>\n",
              "      <td>-1.8080</td>\n",
              "      <td>1.5582</td>\n",
              "      <td>-4.6114</td>\n",
              "      <td>-6.1788</td>\n",
              "      <td>0</td>\n",
              "      <td>37.80</td>\n",
              "    </tr>\n",
              "  </tbody>\n",
              "</table>\n",
              "<p>1000 rows × 21 columns</p>\n",
              "</div>\n",
              "      <button class=\"colab-df-convert\" onclick=\"convertToInteractive('df-91999285-3d25-46ff-838f-72e63935e202')\"\n",
              "              title=\"Convert this dataframe to an interactive table.\"\n",
              "              style=\"display:none;\">\n",
              "        \n",
              "  <svg xmlns=\"http://www.w3.org/2000/svg\" height=\"24px\"viewBox=\"0 0 24 24\"\n",
              "       width=\"24px\">\n",
              "    <path d=\"M0 0h24v24H0V0z\" fill=\"none\"/>\n",
              "    <path d=\"M18.56 5.44l.94 2.06.94-2.06 2.06-.94-2.06-.94-.94-2.06-.94 2.06-2.06.94zm-11 1L8.5 8.5l.94-2.06 2.06-.94-2.06-.94L8.5 2.5l-.94 2.06-2.06.94zm10 10l.94 2.06.94-2.06 2.06-.94-2.06-.94-.94-2.06-.94 2.06-2.06.94z\"/><path d=\"M17.41 7.96l-1.37-1.37c-.4-.4-.92-.59-1.43-.59-.52 0-1.04.2-1.43.59L10.3 9.45l-7.72 7.72c-.78.78-.78 2.05 0 2.83L4 21.41c.39.39.9.59 1.41.59.51 0 1.02-.2 1.41-.59l7.78-7.78 2.81-2.81c.8-.78.8-2.07 0-2.86zM5.41 20L4 18.59l7.72-7.72 1.47 1.35L5.41 20z\"/>\n",
              "  </svg>\n",
              "      </button>\n",
              "      \n",
              "  <style>\n",
              "    .colab-df-container {\n",
              "      display:flex;\n",
              "      flex-wrap:wrap;\n",
              "      gap: 12px;\n",
              "    }\n",
              "\n",
              "    .colab-df-convert {\n",
              "      background-color: #E8F0FE;\n",
              "      border: none;\n",
              "      border-radius: 50%;\n",
              "      cursor: pointer;\n",
              "      display: none;\n",
              "      fill: #1967D2;\n",
              "      height: 32px;\n",
              "      padding: 0 0 0 0;\n",
              "      width: 32px;\n",
              "    }\n",
              "\n",
              "    .colab-df-convert:hover {\n",
              "      background-color: #E2EBFA;\n",
              "      box-shadow: 0px 1px 2px rgba(60, 64, 67, 0.3), 0px 1px 3px 1px rgba(60, 64, 67, 0.15);\n",
              "      fill: #174EA6;\n",
              "    }\n",
              "\n",
              "    [theme=dark] .colab-df-convert {\n",
              "      background-color: #3B4455;\n",
              "      fill: #D2E3FC;\n",
              "    }\n",
              "\n",
              "    [theme=dark] .colab-df-convert:hover {\n",
              "      background-color: #434B5C;\n",
              "      box-shadow: 0px 1px 3px 1px rgba(0, 0, 0, 0.15);\n",
              "      filter: drop-shadow(0px 1px 2px rgba(0, 0, 0, 0.3));\n",
              "      fill: #FFFFFF;\n",
              "    }\n",
              "  </style>\n",
              "\n",
              "      <script>\n",
              "        const buttonEl =\n",
              "          document.querySelector('#df-91999285-3d25-46ff-838f-72e63935e202 button.colab-df-convert');\n",
              "        buttonEl.style.display =\n",
              "          google.colab.kernel.accessAllowed ? 'block' : 'none';\n",
              "\n",
              "        async function convertToInteractive(key) {\n",
              "          const element = document.querySelector('#df-91999285-3d25-46ff-838f-72e63935e202');\n",
              "          const dataTable =\n",
              "            await google.colab.kernel.invokeFunction('convertToInteractive',\n",
              "                                                     [key], {});\n",
              "          if (!dataTable) return;\n",
              "\n",
              "          const docLinkHtml = 'Like what you see? Visit the ' +\n",
              "            '<a target=\"_blank\" href=https://colab.research.google.com/notebooks/data_table.ipynb>data table notebook</a>'\n",
              "            + ' to learn more about interactive tables.';\n",
              "          element.innerHTML = '';\n",
              "          dataTable['output_type'] = 'display_data';\n",
              "          await google.colab.output.renderOutput(dataTable, element);\n",
              "          const docLink = document.createElement('div');\n",
              "          docLink.innerHTML = docLinkHtml;\n",
              "          element.appendChild(docLink);\n",
              "        }\n",
              "      </script>\n",
              "    </div>\n",
              "  </div>\n",
              "  "
            ],
            "text/plain": [
              "           F1         F2       F3       F4  ...     F18      F19  F20    F21\n",
              "0   -0.123210  2577.3200  2183.52  7747.32  ... -5.9384  -9.3420    1  24.93\n",
              "1   -2.064600  1200.1200  1654.74  6027.72  ... -6.5640  -6.3806    1  24.93\n",
              "2   -0.083748  2769.3500  2661.42  7798.66  ... -5.2340  -9.6780    0  24.93\n",
              "3   -2.808300  3161.5200  2199.12  8369.32  ... -5.8166  -6.1512    0  42.06\n",
              "4   -0.445800  2707.4200  2083.62  9054.72  ... -6.4060  -9.5320    0  24.93\n",
              "..        ...        ...      ...      ...  ...     ...      ...  ...    ...\n",
              "995 -0.637200  2575.9200  1493.97  7726.38  ... -6.3420  -6.9018    1  32.58\n",
              "996 -0.062512  2713.8200  1484.64  7529.12  ... -6.1828  -8.1960    1  24.93\n",
              "997 -0.458100  2827.8675  1539.30  7463.92  ... -5.9302  -8.0580    1  33.81\n",
              "998 -0.323700  2681.1200  2399.52  8268.92  ... -5.7562 -12.4580    0  35.79\n",
              "999 -2.061000  4034.1200  1041.12  9405.32  ... -4.6114  -6.1788    0  37.80\n",
              "\n",
              "[1000 rows x 21 columns]"
            ]
          },
          "metadata": {},
          "execution_count": 12
        }
      ],
      "source": [
        "input_features"
      ]
    },
    {
      "cell_type": "code",
      "execution_count": 13,
      "metadata": {
        "id": "UtjDaS52gNiR"
      },
      "outputs": [],
      "source": [
        "X = input_features\n",
        "y = output_features\n",
        "X_train, X_test, y_train, y_test = train_test_split(X,y, test_size=0.2,random_state=1)\n"
      ]
    },
    {
      "cell_type": "code",
      "execution_count": 14,
      "metadata": {
        "colab": {
          "base_uri": "https://localhost:8080/"
        },
        "id": "gbe_dTNQgNiR",
        "outputId": "8c3ce8c1-540a-4145-ed7a-a0f97625874e"
      },
      "outputs": [
        {
          "output_type": "stream",
          "name": "stdout",
          "text": [
            "(800, 21) (200, 21) (800,) (200,)\n"
          ]
        }
      ],
      "source": [
        "print(X_train.shape, X_test.shape, y_train.shape, y_test.shape)"
      ]
    },
    {
      "cell_type": "code",
      "execution_count": 15,
      "metadata": {
        "id": "5-2W2XaDgNiS"
      },
      "outputs": [],
      "source": [
        "dt_clf = DecisionTreeClassifier()\n",
        "dt_clf = dt_clf.fit(X_train,y_train)\n",
        "y_pred = dt_clf.predict(X_test)\n",
        "\n"
      ]
    },
    {
      "cell_type": "code",
      "execution_count": 15,
      "metadata": {
        "id": "VfMlZEW6gNiS"
      },
      "outputs": [],
      "source": [
        ""
      ]
    },
    {
      "cell_type": "code",
      "execution_count": 16,
      "metadata": {
        "id": "nkG3cnFjgNiS"
      },
      "outputs": [],
      "source": [
        "predictions = dt_clf.predict(X_test)"
      ]
    },
    {
      "cell_type": "code",
      "execution_count": 17,
      "metadata": {
        "colab": {
          "base_uri": "https://localhost:8080/"
        },
        "id": "LWsVm7_lgNiT",
        "outputId": "01f1e7db-3dd3-4d05-98f4-8c53d2185ede"
      },
      "outputs": [
        {
          "output_type": "stream",
          "name": "stdout",
          "text": [
            "[[84 19]\n",
            " [25 72]]\n"
          ]
        }
      ],
      "source": [
        "print(confusion_matrix(y_test,predictions))"
      ]
    },
    {
      "cell_type": "code",
      "execution_count": 18,
      "metadata": {
        "colab": {
          "base_uri": "https://localhost:8080/"
        },
        "id": "uMS-h-XQgNiT",
        "outputId": "ab77f677-6de9-4c2f-9a7b-c493820f07db"
      },
      "outputs": [
        {
          "output_type": "stream",
          "name": "stdout",
          "text": [
            "              precision    recall  f1-score   support\n",
            "\n",
            "       False       0.77      0.82      0.79       103\n",
            "        True       0.79      0.74      0.77        97\n",
            "\n",
            "    accuracy                           0.78       200\n",
            "   macro avg       0.78      0.78      0.78       200\n",
            "weighted avg       0.78      0.78      0.78       200\n",
            "\n"
          ]
        }
      ],
      "source": [
        "print(classification_report(y_test,predictions))"
      ]
    },
    {
      "cell_type": "code",
      "execution_count": 19,
      "metadata": {
        "colab": {
          "base_uri": "https://localhost:8080/"
        },
        "id": "WKiLC-F6gNiT",
        "outputId": "f65bd701-f049-43ba-81b5-3a9dfb745ee4"
      },
      "outputs": [
        {
          "output_type": "stream",
          "name": "stdout",
          "text": [
            "Accuracy: 0.78\n"
          ]
        }
      ],
      "source": [
        "print(\"Accuracy:\",metrics.accuracy_score(y_test, y_pred))"
      ]
    },
    {
      "cell_type": "code",
      "execution_count": 20,
      "metadata": {
        "id": "uiZylnZogNiU"
      },
      "outputs": [],
      "source": [
        "\n",
        "rf_clf=RandomForestClassifier(n_estimators=20)\n",
        "rf_clf.fit(X_train,y_train)\n",
        "y_pred=rf_clf.predict(X_test)"
      ]
    },
    {
      "cell_type": "code",
      "execution_count": 21,
      "metadata": {
        "colab": {
          "base_uri": "https://localhost:8080/"
        },
        "id": "3Db1B0uigNiU",
        "outputId": "a237d3ff-3ff7-4fc9-84d9-e4a33a674b4d"
      },
      "outputs": [
        {
          "output_type": "stream",
          "name": "stdout",
          "text": [
            "[[84 19]\n",
            " [25 72]]\n"
          ]
        }
      ],
      "source": [
        "print(confusion_matrix(y_test,predictions))"
      ]
    },
    {
      "cell_type": "code",
      "execution_count": 22,
      "metadata": {
        "colab": {
          "base_uri": "https://localhost:8080/"
        },
        "id": "hTr5hJ8dgNiU",
        "outputId": "d9120f46-a223-4316-ac60-b2bda8a3ac42"
      },
      "outputs": [
        {
          "output_type": "stream",
          "name": "stdout",
          "text": [
            "              precision    recall  f1-score   support\n",
            "\n",
            "       False       0.77      0.82      0.79       103\n",
            "        True       0.79      0.74      0.77        97\n",
            "\n",
            "    accuracy                           0.78       200\n",
            "   macro avg       0.78      0.78      0.78       200\n",
            "weighted avg       0.78      0.78      0.78       200\n",
            "\n"
          ]
        }
      ],
      "source": [
        "print(classification_report(y_test,predictions))"
      ]
    },
    {
      "cell_type": "code",
      "execution_count": 23,
      "metadata": {
        "colab": {
          "base_uri": "https://localhost:8080/"
        },
        "id": "a1E_F70egNiV",
        "outputId": "1bd6aa13-6b2d-4855-f3d0-0e76bde1f7cc"
      },
      "outputs": [
        {
          "output_type": "stream",
          "name": "stdout",
          "text": [
            "Accuracy: 0.79\n"
          ]
        }
      ],
      "source": [
        "print(\"Accuracy:\",metrics.accuracy_score(y_test, y_pred))"
      ]
    },
    {
      "cell_type": "code",
      "execution_count": 24,
      "metadata": {
        "id": "7XKpNwf4gNiV"
      },
      "outputs": [],
      "source": [
        "\n",
        "fig = KNeighborsClassifier(n_neighbors = 6)\n",
        "fig.fit(X_train, y_train)\n",
        "y_pred=fig.predict(X_test)\n"
      ]
    },
    {
      "cell_type": "code",
      "execution_count": 25,
      "metadata": {
        "colab": {
          "base_uri": "https://localhost:8080/"
        },
        "id": "PQfMG3SGgNiV",
        "outputId": "06061c56-7055-4a1b-e6e1-bd74691ce0e9"
      },
      "outputs": [
        {
          "output_type": "stream",
          "name": "stdout",
          "text": [
            "[[84 19]\n",
            " [25 72]]\n"
          ]
        }
      ],
      "source": [
        "print(confusion_matrix(y_test,predictions))"
      ]
    },
    {
      "cell_type": "code",
      "execution_count": 26,
      "metadata": {
        "colab": {
          "base_uri": "https://localhost:8080/"
        },
        "id": "IxKUMScjgNiW",
        "outputId": "d369aacc-04f7-4a02-a9be-4ee6737bbe0c"
      },
      "outputs": [
        {
          "output_type": "stream",
          "name": "stdout",
          "text": [
            "              precision    recall  f1-score   support\n",
            "\n",
            "       False       0.77      0.82      0.79       103\n",
            "        True       0.79      0.74      0.77        97\n",
            "\n",
            "    accuracy                           0.78       200\n",
            "   macro avg       0.78      0.78      0.78       200\n",
            "weighted avg       0.78      0.78      0.78       200\n",
            "\n"
          ]
        }
      ],
      "source": [
        "print(classification_report(y_test,predictions))"
      ]
    },
    {
      "cell_type": "code",
      "execution_count": 27,
      "metadata": {
        "colab": {
          "base_uri": "https://localhost:8080/"
        },
        "id": "xy7OvujLgNiW",
        "outputId": "0e1c3a5c-4dc5-473e-ed74-7569cabadca0"
      },
      "outputs": [
        {
          "output_type": "stream",
          "name": "stdout",
          "text": [
            "Accuracy: 0.655\n"
          ]
        }
      ],
      "source": [
        "print(\"Accuracy:\",metrics.accuracy_score(y_test, y_pred))"
      ]
    },
    {
      "cell_type": "markdown",
      "metadata": {
        "id": "a7I9WahJgNiW"
      },
      "source": [
        "### Part B"
      ]
    },
    {
      "cell_type": "code",
      "execution_count": 28,
      "metadata": {
        "id": "rBnY2DM7gNiW"
      },
      "outputs": [],
      "source": [
        "# HERE YOU WILL USE THIS TEMPLATE TO SAVE THE PREDICTIONS ON THE TEST SET\n",
        "\n",
        "# Load the test data\n",
        "test_df = pd.read_csv('CE802_P2_Test.csv')\n",
        "\n",
        "# Make sure you work on a copy\n",
        "test_data = test_df.iloc[:,:-1].copy()\n",
        "df.isnull().sum()\n",
        "minvalue = df['F21'].min()\n",
        "test_data.fillna(value =minvalue,inplace = True)\n",
        "test_data.isnull().sum()\n",
        "\n",
        "\n",
        "\n",
        "predicted =rf_clf.predict(test_data)# CHANGE HERE -- use your previously trained predictor and apply it to test_data\n",
        "                # (test_data can be modified if needed but make sure you don't change the order of the rows)...\n",
        "\n",
        "# Replace the last (empty) column with your prediction\n",
        "test_df.iloc[:,-1] = predicted\n",
        "\n",
        "# Save to the destination file\n",
        "test_df.to_csv('CE802_P2_Test_Predictions.csv', index=False, float_format='%.8g')\n",
        "\n",
        "# IMPORTANT!! Make sure only the last column has changed\n",
        "assert pd.read_csv('CE802_P2_Test.csv').iloc[:,:-1].equals(pd.read_csv('CE802_P2_Test_Predictions.csv').iloc[:,:-1])"
      ]
    },
    {
      "cell_type": "code",
      "execution_count": 29,
      "metadata": {
        "colab": {
          "base_uri": "https://localhost:8080/"
        },
        "id": "LEGasygegNiX",
        "outputId": "a278a9f2-7a68-470f-8b94-61d5ad176440"
      },
      "outputs": [
        {
          "output_type": "execute_result",
          "data": {
            "text/plain": [
              "F1     0\n",
              "F2     0\n",
              "F3     0\n",
              "F4     0\n",
              "F5     0\n",
              "F6     0\n",
              "F7     0\n",
              "F8     0\n",
              "F9     0\n",
              "F10    0\n",
              "F11    0\n",
              "F12    0\n",
              "F13    0\n",
              "F14    0\n",
              "F15    0\n",
              "F16    0\n",
              "F17    0\n",
              "F18    0\n",
              "F19    0\n",
              "F20    0\n",
              "F21    0\n",
              "dtype: int64"
            ]
          },
          "metadata": {},
          "execution_count": 29
        }
      ],
      "source": [
        "test_data.isnull().sum()"
      ]
    },
    {
      "cell_type": "code",
      "execution_count": 30,
      "metadata": {
        "id": "zdVxodoLgNiX"
      },
      "outputs": [],
      "source": [
        "minvalue = df['F21'].min()\n",
        "test_data.fillna(value =minvalue,inplace = True)\n"
      ]
    },
    {
      "cell_type": "code",
      "execution_count": 31,
      "metadata": {
        "colab": {
          "base_uri": "https://localhost:8080/"
        },
        "id": "_y05oE1tgNiX",
        "outputId": "718e9644-4485-4548-c9c1-1d2a0169647a"
      },
      "outputs": [
        {
          "output_type": "execute_result",
          "data": {
            "text/plain": [
              "F1     0\n",
              "F2     0\n",
              "F3     0\n",
              "F4     0\n",
              "F5     0\n",
              "F6     0\n",
              "F7     0\n",
              "F8     0\n",
              "F9     0\n",
              "F10    0\n",
              "F11    0\n",
              "F12    0\n",
              "F13    0\n",
              "F14    0\n",
              "F15    0\n",
              "F16    0\n",
              "F17    0\n",
              "F18    0\n",
              "F19    0\n",
              "F20    0\n",
              "F21    0\n",
              "dtype: int64"
            ]
          },
          "metadata": {},
          "execution_count": 31
        }
      ],
      "source": [
        "test_data.isnull().sum()"
      ]
    },
    {
      "cell_type": "code",
      "execution_count": 31,
      "metadata": {
        "id": "SIdKEQ4cgNiY"
      },
      "outputs": [],
      "source": [
        ""
      ]
    }
  ],
  "metadata": {
    "kernelspec": {
      "display_name": "Python 3",
      "language": "python",
      "name": "python3"
    },
    "language_info": {
      "codemirror_mode": {
        "name": "ipython",
        "version": 3
      },
      "file_extension": ".py",
      "mimetype": "text/x-python",
      "name": "python",
      "nbconvert_exporter": "python",
      "pygments_lexer": "ipython3",
      "version": "3.8.8"
    },
    "colab": {
      "name": "CE802_P2_Notebook.ipynb",
      "provenance": [],
      "collapsed_sections": []
    }
  },
  "nbformat": 4,
  "nbformat_minor": 0
}